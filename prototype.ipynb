{
 "cells": [
  {
   "cell_type": "code",
   "execution_count": 2,
   "metadata": {},
   "outputs": [],
   "source": [
    "# Import Packages \n",
    "from typing import Tuple, Dict\n",
    "import pytest\n",
    "import time"
   ]
  },
  {
   "cell_type": "code",
   "execution_count": 3,
   "metadata": {},
   "outputs": [],
   "source": [
    "# Define Time function decorator"
   ]
  },
  {
   "cell_type": "code",
   "execution_count": 4,
   "metadata": {},
   "outputs": [],
   "source": [
    "#define logging parameters"
   ]
  },
  {
   "cell_type": "code",
   "execution_count": 5,
   "metadata": {},
   "outputs": [],
   "source": [
    "# Define fibonacci numbers function\n",
    "def fib (end: int, first: int = 0, second: int = 1) -> list[int]:\n",
    "    \"\"\"_summary_\n",
    "\n",
    "    Args:\n",
    "        end (int): _description_\n",
    "        first (int, optional): _description_. Defaults to 0.\n",
    "        second (int, optional): _description_. Defaults to 1.\n",
    "\n",
    "    Returns:\n",
    "        list[int]: _description_\n",
    "    \"\"\"    \n",
    "    #Alternatively:\n",
    "    #lst = [first, second]\n",
    "\n",
    "    #Initialize list\n",
    "    lst = []\n",
    "\n",
    "    #Initialize early numbers\n",
    "    x_0 = first #First number\n",
    "    x_1 = second #Second number\n",
    "\n",
    "    #Put early numbers into initialized list\n",
    "    lst.append(x_0)\n",
    "    lst.append(x_1)\n",
    "\n",
    "    #Nth number\n",
    "    x_n = lambda a,b : a+b #Consecutive nth number\n",
    "\n",
    "    while lst[-1]<end:\n",
    "        lst.append(x_n(lst[-1],lst[-2]))\n",
    "\n",
    "    return lst"
   ]
  },
  {
   "cell_type": "code",
   "execution_count": 6,
   "metadata": {},
   "outputs": [],
   "source": [
    "x_n = lambda a,b : a+b \n"
   ]
  },
  {
   "cell_type": "code",
   "execution_count": 7,
   "metadata": {},
   "outputs": [
    {
     "data": {
      "text/plain": [
       "2"
      ]
     },
     "execution_count": 7,
     "metadata": {},
     "output_type": "execute_result"
    }
   ],
   "source": [
    "x_n(1,1)"
   ]
  },
  {
   "cell_type": "code",
   "execution_count": 10,
   "metadata": {},
   "outputs": [
    {
     "data": {
      "text/plain": [
       "22"
      ]
     },
     "execution_count": 10,
     "metadata": {},
     "output_type": "execute_result"
    }
   ],
   "source": [
    "len(fib(10_000))"
   ]
  },
  {
   "cell_type": "code",
   "execution_count": 11,
   "metadata": {},
   "outputs": [],
   "source": [
    "def test_fib():\n",
    "    assert fib(10_000)[-1] == 10946\n",
    "    assert len(fib(10_000)) == 22"
   ]
  },
  {
   "cell_type": "code",
   "execution_count": null,
   "metadata": {},
   "outputs": [],
   "source": []
  }
 ],
 "metadata": {
  "kernelspec": {
   "display_name": ".venv",
   "language": "python",
   "name": "python3"
  },
  "language_info": {
   "codemirror_mode": {
    "name": "ipython",
    "version": 3
   },
   "file_extension": ".py",
   "mimetype": "text/x-python",
   "name": "python",
   "nbconvert_exporter": "python",
   "pygments_lexer": "ipython3",
   "version": "3.11.3"
  },
  "orig_nbformat": 4
 },
 "nbformat": 4,
 "nbformat_minor": 2
}
